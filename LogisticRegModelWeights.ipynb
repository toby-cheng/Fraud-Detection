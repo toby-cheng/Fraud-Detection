{
 "cells": [
  {
   "cell_type": "markdown",
   "metadata": {},
   "source": [
    "# Fraud Detection based on Synthetic Financial Datasets - Understanding SageMaker Logistic Regression Features"
   ]
  },
  {
   "cell_type": "markdown",
   "metadata": {},
   "source": [
    "##### By: Ling Jiang, Xinyue Jin, Ming Ki Toby Cheng"
   ]
  },
  {
   "cell_type": "code",
   "execution_count": 1,
   "metadata": {},
   "outputs": [
    {
     "name": "stdout",
     "output_type": "stream",
     "text": [
      "download: s3://bigdat2proj/data/output/linear-learner-2020-03-16-02-37-32-561/output/model.tar.gz to ./model.tar.gz\n"
     ]
    }
   ],
   "source": [
    "import tarfile\n",
    "import pickle as pkl\n",
    "\n",
    "# download the model artifact from AWS S3\n",
    "!aws s3 cp s3://bigdat2proj/data/output/linear-learner-2020-03-16-02-37-32-561/output/model.tar.gz .\n",
    "\n",
    "\n",
    "    "
   ]
  },
  {
   "cell_type": "code",
   "execution_count": 6,
   "metadata": {},
   "outputs": [],
   "source": [
    "import mxnet as mx\n",
    "import os"
   ]
  },
  {
   "cell_type": "code",
   "execution_count": 8,
   "metadata": {},
   "outputs": [
    {
     "data": {
      "text/plain": [
       "0"
      ]
     },
     "execution_count": 8,
     "metadata": {},
     "output_type": "execute_result"
    }
   ],
   "source": [
    "# #opens the downloaded model artifcat and loads it as 'model' variable\n",
    "tar = tarfile.open('model.tar.gz')\n",
    "tar.extractall()\n",
    "tar.close()\n",
    "os.system('unzip model_algo-1') "
   ]
  },
  {
   "cell_type": "code",
   "execution_count": 10,
   "metadata": {},
   "outputs": [
    {
     "name": "stderr",
     "output_type": "stream",
     "text": [
      "/home/ec2-user/anaconda3/envs/amazonei_mxnet_p36/lib/python3.6/site-packages/mxnet/module/base_module.py:55: UserWarning: \u001b[91mYou created Module with Module(..., label_names=['softmax_label']) but input with name 'softmax_label' is not found in symbol.list_arguments(). Did you mean one of:\n",
      "\tdata\n",
      "\tout_label\u001b[0m\n",
      "  warnings.warn(msg)\n"
     ]
    }
   ],
   "source": [
    "# Load the mxnet module\n",
    "mod = mx.module.Module.load(\"mx-mod\", 0)\n",
    " \n",
    "# model's weights\n",
    "weights = mod._arg_params['fc0_weight'].asnumpy().flatten()\n",
    " \n",
    "# model bias\n",
    "bias = mod._arg_params['fc0_bias'].asnumpy().flatten()"
   ]
  },
  {
   "cell_type": "code",
   "execution_count": 11,
   "metadata": {},
   "outputs": [
    {
     "data": {
      "text/plain": [
       "array([-3.6708593e-02,  7.0041746e-02, -4.2885728e-03, -2.2366155e-02,\n",
       "        5.2787676e-03,  1.5695977e-07, -1.2010214e-06, -8.3515587e-08,\n",
       "        1.6430099e+01,  5.1546570e-02], dtype=float32)"
      ]
     },
     "execution_count": 11,
     "metadata": {},
     "output_type": "execute_result"
    }
   ],
   "source": [
    "weights"
   ]
  },
  {
   "cell_type": "code",
   "execution_count": 12,
   "metadata": {},
   "outputs": [
    {
     "data": {
      "text/plain": [
       "array([-10.41657], dtype=float32)"
      ]
     },
     "execution_count": 12,
     "metadata": {},
     "output_type": "execute_result"
    }
   ],
   "source": [
    "bias"
   ]
  },
  {
   "cell_type": "code",
   "execution_count": 18,
   "metadata": {},
   "outputs": [
    {
     "data": {
      "text/plain": [
       "array([9.6395701e-01, 1.0725529e+00, 9.9572062e-01, 9.7788209e-01,\n",
       "       1.0052928e+00, 1.0000001e+00, 9.9999881e-01, 9.9999994e-01,\n",
       "       1.3661599e+07, 1.0528982e+00], dtype=float32)"
      ]
     },
     "execution_count": 18,
     "metadata": {},
     "output_type": "execute_result"
    }
   ],
   "source": [
    "import numpy as np\n",
    "odds_ratios = np.exp(weights)\n",
    "odds_ratios"
   ]
  }
 ],
 "metadata": {
  "kernelspec": {
   "display_name": "Python 3",
   "language": "python",
   "name": "python3"
  },
  "language_info": {
   "codemirror_mode": {
    "name": "ipython",
    "version": 3
   },
   "file_extension": ".py",
   "mimetype": "text/x-python",
   "name": "python",
   "nbconvert_exporter": "python",
   "pygments_lexer": "ipython3",
   "version": "3.6.9"
  }
 },
 "nbformat": 4,
 "nbformat_minor": 4
}
