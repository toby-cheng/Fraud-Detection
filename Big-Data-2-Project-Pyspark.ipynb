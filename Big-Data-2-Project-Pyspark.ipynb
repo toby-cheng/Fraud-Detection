{
 "cells": [
  {
   "cell_type": "markdown",
   "metadata": {},
   "source": [
    "# Fraud Detection based on Synthetic Financial Datasets - PySpark Logistic Regression and Multilayer Perceptron"
   ]
  },
  {
   "cell_type": "markdown",
   "metadata": {},
   "source": [
    "##### By: Ling Jiang, Xinyue Jin, Ming Ki Toby Cheng"
   ]
  },
  {
   "cell_type": "markdown",
   "metadata": {},
   "source": [
    "## 0) Startup"
   ]
  },
  {
   "cell_type": "markdown",
   "metadata": {},
   "source": [
    "### 0.a) Import packages"
   ]
  },
  {
   "cell_type": "code",
   "execution_count": 56,
   "metadata": {},
   "outputs": [],
   "source": [
    "from sklearn.utils import shuffle\n",
    "import os\n",
    "import matplotlib.pyplot as plt\n",
    "import pandas as pd\n",
    "import numpy as np\n",
    "import pickle\n",
    "\n",
    "\n",
    "%matplotlib inline\n"
   ]
  },
  {
   "cell_type": "markdown",
   "metadata": {},
   "source": [
    "### 0.b) Start Spark session\n"
   ]
  },
  {
   "cell_type": "code",
   "execution_count": 57,
   "metadata": {},
   "outputs": [
    {
     "name": "stdout",
     "output_type": "stream",
     "text": [
      "2.4.3 2.4.3\n"
     ]
    }
   ],
   "source": [
    "## initialize Spark\n",
    "\n",
    "# NOTE: for this assignment, we will enforce using 2 CPU cores. \n",
    "\n",
    "import pyspark\n",
    "import pyspark.sql.functions as f\n",
    "from pyspark.sql import SparkSession, Row\n",
    "\n",
    "conf = pyspark.SparkConf().setAll([('spark.master', 'local[*]'),  # Specify the core number\n",
    "                                   ('spark.app.name', 'Clustering')])      # Specify the app name\n",
    "spark = SparkSession.builder.config(conf=conf).getOrCreate()\n",
    "\n",
    "print (spark.version, pyspark.version.__version__)"
   ]
  },
  {
   "cell_type": "markdown",
   "metadata": {},
   "source": [
    "### 0.c) Set random seed"
   ]
  },
  {
   "cell_type": "code",
   "execution_count": 58,
   "metadata": {},
   "outputs": [],
   "source": [
    "rand_seed = 1234"
   ]
  },
  {
   "cell_type": "markdown",
   "metadata": {},
   "source": [
    "## 1) Load and prepare data"
   ]
  },
  {
   "cell_type": "markdown",
   "metadata": {},
   "source": [
    "### 1.a) Load Data\n",
    "\n",
    "Read data from csv into DataFrames, and load data dictionary from the pickle file. "
   ]
  },
  {
   "cell_type": "code",
   "execution_count": 59,
   "metadata": {},
   "outputs": [],
   "source": [
    "data = spark.read.load(\"file:///home/jovyan/git/big-data-2-project/PS_20174392719_1491204439457_log.csv\", format=\"csv\", inferSchema=\"true\", header=\"true\") # YOUR CODE HERE\n"
   ]
  },
  {
   "cell_type": "code",
   "execution_count": 60,
   "metadata": {},
   "outputs": [
    {
     "name": "stdout",
     "output_type": "stream",
     "text": [
      "6362620\n"
     ]
    }
   ],
   "source": [
    "print(data.count())"
   ]
  },
  {
   "cell_type": "code",
   "execution_count": 61,
   "metadata": {},
   "outputs": [
    {
     "name": "stdout",
     "output_type": "stream",
     "text": [
      "+----+--------+--------+-----------+-------------+--------------+-----------+--------------+--------------+-------+--------------+\n",
      "|step|    type|  amount|   nameOrig|oldbalanceOrg|newbalanceOrig|   nameDest|oldbalanceDest|newbalanceDest|isFraud|isFlaggedFraud|\n",
      "+----+--------+--------+-----------+-------------+--------------+-----------+--------------+--------------+-------+--------------+\n",
      "|   1| PAYMENT| 9839.64|C1231006815|     170136.0|     160296.36|M1979787155|           0.0|           0.0|      0|             0|\n",
      "|   1| PAYMENT| 1864.28|C1666544295|      21249.0|      19384.72|M2044282225|           0.0|           0.0|      0|             0|\n",
      "|   1|TRANSFER|   181.0|C1305486145|        181.0|           0.0| C553264065|           0.0|           0.0|      1|             0|\n",
      "|   1|CASH_OUT|   181.0| C840083671|        181.0|           0.0|  C38997010|       21182.0|           0.0|      1|             0|\n",
      "|   1| PAYMENT|11668.14|C2048537720|      41554.0|      29885.86|M1230701703|           0.0|           0.0|      0|             0|\n",
      "+----+--------+--------+-----------+-------------+--------------+-----------+--------------+--------------+-------+--------------+\n",
      "only showing top 5 rows\n",
      "\n"
     ]
    }
   ],
   "source": [
    "data.show(5)"
   ]
  },
  {
   "cell_type": "code",
   "execution_count": 62,
   "metadata": {},
   "outputs": [],
   "source": [
    "data = data.withColumn(\"OrigDiff\", data.newbalanceOrig - data.oldbalanceOrg)\n",
    "data = data.withColumn(\"DestDiff\", data.newbalanceDest - data.oldbalanceDest)"
   ]
  },
  {
   "cell_type": "code",
   "execution_count": 63,
   "metadata": {},
   "outputs": [],
   "source": [
    "data = data.withColumn(\n",
    "    'AmountEqOrig',\\\n",
    "    f.when(f.col(\"amount\") == f.col(\"oldbalanceOrg\"), 1)\\\n",
    "    .otherwise(0))"
   ]
  },
  {
   "cell_type": "code",
   "execution_count": 64,
   "metadata": {},
   "outputs": [],
   "source": [
    "data = data.withColumn(\n",
    "    'CusToCus',\\\n",
    "    f.when(f.col(\"nameOrig\").contains('C') & f.col(\"nameDest\").contains('C'), 1)\\\n",
    "    .otherwise(0))\n"
   ]
  },
  {
   "cell_type": "code",
   "execution_count": 65,
   "metadata": {},
   "outputs": [
    {
     "name": "stdout",
     "output_type": "stream",
     "text": [
      "+----+--------+--------+-----------+-------------+--------------+-----------+--------------+--------------+-------+--------------+-------------------+--------+------------+--------+\n",
      "|step|    type|  amount|   nameOrig|oldbalanceOrg|newbalanceOrig|   nameDest|oldbalanceDest|newbalanceDest|isFraud|isFlaggedFraud|           OrigDiff|DestDiff|AmountEqOrig|CusToCus|\n",
      "+----+--------+--------+-----------+-------------+--------------+-----------+--------------+--------------+-------+--------------+-------------------+--------+------------+--------+\n",
      "|   1| PAYMENT| 9839.64|C1231006815|     170136.0|     160296.36|M1979787155|           0.0|           0.0|      0|             0| -9839.640000000014|     0.0|           0|       0|\n",
      "|   1| PAYMENT| 1864.28|C1666544295|      21249.0|      19384.72|M2044282225|           0.0|           0.0|      0|             0|-1864.2799999999988|     0.0|           0|       0|\n",
      "|   1|TRANSFER|   181.0|C1305486145|        181.0|           0.0| C553264065|           0.0|           0.0|      1|             0|             -181.0|     0.0|           1|       1|\n",
      "|   1|CASH_OUT|   181.0| C840083671|        181.0|           0.0|  C38997010|       21182.0|           0.0|      1|             0|             -181.0|-21182.0|           1|       1|\n",
      "|   1| PAYMENT|11668.14|C2048537720|      41554.0|      29885.86|M1230701703|           0.0|           0.0|      0|             0|          -11668.14|     0.0|           0|       0|\n",
      "+----+--------+--------+-----------+-------------+--------------+-----------+--------------+--------------+-------+--------------+-------------------+--------+------------+--------+\n",
      "only showing top 5 rows\n",
      "\n"
     ]
    }
   ],
   "source": [
    "data.show(5)"
   ]
  },
  {
   "cell_type": "code",
   "execution_count": 66,
   "metadata": {},
   "outputs": [
    {
     "name": "stdout",
     "output_type": "stream",
     "text": [
      "+----+--------+--------+-----------+-------------+--------------+-----------+--------------+--------------+-------+--------------+-------------------+--------+------------+--------+---------+\n",
      "|step|    type|  amount|   nameOrig|oldbalanceOrg|newbalanceOrig|   nameDest|oldbalanceDest|newbalanceDest|isFraud|isFlaggedFraud|           OrigDiff|DestDiff|AmountEqOrig|CusToCus|typeIndex|\n",
      "+----+--------+--------+-----------+-------------+--------------+-----------+--------------+--------------+-------+--------------+-------------------+--------+------------+--------+---------+\n",
      "|   1| PAYMENT| 9839.64|C1231006815|     170136.0|     160296.36|M1979787155|           0.0|           0.0|      0|             0| -9839.640000000014|     0.0|           0|       0|      1.0|\n",
      "|   1| PAYMENT| 1864.28|C1666544295|      21249.0|      19384.72|M2044282225|           0.0|           0.0|      0|             0|-1864.2799999999988|     0.0|           0|       0|      1.0|\n",
      "|   1|TRANSFER|   181.0|C1305486145|        181.0|           0.0| C553264065|           0.0|           0.0|      1|             0|             -181.0|     0.0|           1|       1|      3.0|\n",
      "|   1|CASH_OUT|   181.0| C840083671|        181.0|           0.0|  C38997010|       21182.0|           0.0|      1|             0|             -181.0|-21182.0|           1|       1|      0.0|\n",
      "|   1| PAYMENT|11668.14|C2048537720|      41554.0|      29885.86|M1230701703|           0.0|           0.0|      0|             0|          -11668.14|     0.0|           0|       0|      1.0|\n",
      "+----+--------+--------+-----------+-------------+--------------+-----------+--------------+--------------+-------+--------------+-------------------+--------+------------+--------+---------+\n",
      "only showing top 5 rows\n",
      "\n"
     ]
    }
   ],
   "source": [
    "from pyspark.ml.feature import StringIndexer\n",
    "\n",
    "indexer = StringIndexer(inputCol=\"type\", outputCol=\"typeIndex\")\n",
    "data_index = indexer.fit(data).transform(data)\n",
    "\n",
    "data_index.show(5)"
   ]
  },
  {
   "cell_type": "code",
   "execution_count": 67,
   "metadata": {},
   "outputs": [
    {
     "name": "stdout",
     "output_type": "stream",
     "text": [
      "+----+--------+--------+-----------+-------------+--------------+-----------+--------------+--------------+-------+--------------+-------------------+--------+------------+--------+---------+-------------+\n",
      "|step|    type|  amount|   nameOrig|oldbalanceOrg|newbalanceOrig|   nameDest|oldbalanceDest|newbalanceDest|isFraud|isFlaggedFraud|           OrigDiff|DestDiff|AmountEqOrig|CusToCus|typeIndex|      typeVec|\n",
      "+----+--------+--------+-----------+-------------+--------------+-----------+--------------+--------------+-------+--------------+-------------------+--------+------------+--------+---------+-------------+\n",
      "|   1| PAYMENT| 9839.64|C1231006815|     170136.0|     160296.36|M1979787155|           0.0|           0.0|      0|             0| -9839.640000000014|     0.0|           0|       0|      1.0|(4,[1],[1.0])|\n",
      "|   1| PAYMENT| 1864.28|C1666544295|      21249.0|      19384.72|M2044282225|           0.0|           0.0|      0|             0|-1864.2799999999988|     0.0|           0|       0|      1.0|(4,[1],[1.0])|\n",
      "|   1|TRANSFER|   181.0|C1305486145|        181.0|           0.0| C553264065|           0.0|           0.0|      1|             0|             -181.0|     0.0|           1|       1|      3.0|(4,[3],[1.0])|\n",
      "|   1|CASH_OUT|   181.0| C840083671|        181.0|           0.0|  C38997010|       21182.0|           0.0|      1|             0|             -181.0|-21182.0|           1|       1|      0.0|(4,[0],[1.0])|\n",
      "|   1| PAYMENT|11668.14|C2048537720|      41554.0|      29885.86|M1230701703|           0.0|           0.0|      0|             0|          -11668.14|     0.0|           0|       0|      1.0|(4,[1],[1.0])|\n",
      "+----+--------+--------+-----------+-------------+--------------+-----------+--------------+--------------+-------+--------------+-------------------+--------+------------+--------+---------+-------------+\n",
      "only showing top 5 rows\n",
      "\n"
     ]
    }
   ],
   "source": [
    "from pyspark.ml.feature import OneHotEncoderEstimator\n",
    "\n",
    "encoder = OneHotEncoderEstimator(inputCols=[\"typeIndex\"],\n",
    "                                 outputCols=[\"typeVec\"])\n",
    "model = encoder.fit(data_index)\n",
    "data_encoded = model.transform(data_index)\n",
    "data_encoded.show(5)"
   ]
  },
  {
   "cell_type": "code",
   "execution_count": 68,
   "metadata": {},
   "outputs": [
    {
     "name": "stdout",
     "output_type": "stream",
     "text": [
      "+----+--------+--------+-----------+-------------+--------------+-----------+--------------+--------------+-------+--------------+-------------------+-------------------+------------+--------+---------+-------------+\n",
      "|step|    type|  amount|   nameOrig|oldbalanceOrg|newbalanceOrig|   nameDest|oldbalanceDest|newbalanceDest|isFraud|isFlaggedFraud|           OrigDiff|           DestDiff|AmountEqOrig|CusToCus|typeIndex|      typeVec|\n",
      "+----+--------+--------+-----------+-------------+--------------+-----------+--------------+--------------+-------+--------------+-------------------+-------------------+------------+--------+---------+-------------+\n",
      "|   1| PAYMENT| 9839.64|C1231006815|     170136.0|     160296.36|M1979787155|           0.0|           0.0|      0|             0| -9839.640000000014|                0.0|           0|       0|      1.0|(4,[1],[1.0])|\n",
      "|   1| PAYMENT| 1864.28|C1666544295|      21249.0|      19384.72|M2044282225|           0.0|           0.0|      0|             0|-1864.2799999999988|                0.0|           0|       0|      1.0|(4,[1],[1.0])|\n",
      "|   1|TRANSFER|   181.0|C1305486145|        181.0|           0.0| C553264065|           0.0|           0.0|      1|             0|             -181.0|                0.0|           1|       1|      3.0|(4,[3],[1.0])|\n",
      "|   1|CASH_OUT|   181.0| C840083671|        181.0|           0.0|  C38997010|       21182.0|           0.0|      1|             0|             -181.0|           -21182.0|           1|       1|      0.0|(4,[0],[1.0])|\n",
      "|   1| PAYMENT|11668.14|C2048537720|      41554.0|      29885.86|M1230701703|           0.0|           0.0|      0|             0|          -11668.14|                0.0|           0|       0|      1.0|(4,[1],[1.0])|\n",
      "|   1| PAYMENT| 7817.71|  C90045638|      53860.0|      46042.29| M573487274|           0.0|           0.0|      0|             0| -7817.709999999999|                0.0|           0|       0|      1.0|(4,[1],[1.0])|\n",
      "|   1| PAYMENT| 7107.77| C154988899|     183195.0|     176087.23| M408069119|           0.0|           0.0|      0|             0|-7107.7699999999895|                0.0|           0|       0|      1.0|(4,[1],[1.0])|\n",
      "|   1| PAYMENT| 7861.64|C1912850431|    176087.23|     168225.59| M633326333|           0.0|           0.0|      0|             0| -7861.640000000014|                0.0|           0|       0|      1.0|(4,[1],[1.0])|\n",
      "|   1| PAYMENT| 4024.36|C1265012928|       2671.0|           0.0|M1176932104|           0.0|           0.0|      0|             0|            -2671.0|                0.0|           0|       0|      1.0|(4,[1],[1.0])|\n",
      "|   1|   DEBIT| 5337.77| C712410124|      41720.0|      36382.23| C195600860|       41898.0|      40348.79|      0|             0| -5337.769999999997|-1549.2099999999991|           0|       1|      4.0|    (4,[],[])|\n",
      "+----+--------+--------+-----------+-------------+--------------+-----------+--------------+--------------+-------+--------------+-------------------+-------------------+------------+--------+---------+-------------+\n",
      "only showing top 10 rows\n",
      "\n"
     ]
    }
   ],
   "source": [
    "data_encoded.show(10)"
   ]
  },
  {
   "cell_type": "code",
   "execution_count": 69,
   "metadata": {},
   "outputs": [
    {
     "name": "stdout",
     "output_type": "stream",
     "text": [
      "+---------+-------+\n",
      "|typeIndex|  count|\n",
      "+---------+-------+\n",
      "|      0.0|2237500|\n",
      "|      1.0|2151495|\n",
      "|      4.0|  41432|\n",
      "|      3.0| 532909|\n",
      "|      2.0|1399284|\n",
      "+---------+-------+\n",
      "\n",
      "+--------+-------+\n",
      "|    type|  count|\n",
      "+--------+-------+\n",
      "|TRANSFER| 532909|\n",
      "| CASH_IN|1399284|\n",
      "|CASH_OUT|2237500|\n",
      "| PAYMENT|2151495|\n",
      "|   DEBIT|  41432|\n",
      "+--------+-------+\n",
      "\n"
     ]
    }
   ],
   "source": [
    "data_encoded.groupBy('typeIndex').count().show()\n",
    "data_encoded.groupBy('type').count().show()"
   ]
  },
  {
   "cell_type": "code",
   "execution_count": 70,
   "metadata": {},
   "outputs": [
    {
     "name": "stdout",
     "output_type": "stream",
     "text": [
      "+-------------+--------+-------------------+--------+-------+------------+--------+\n",
      "|      typeVec|  amount|           OrigDiff|DestDiff|isFraud|AmountEqOrig|CusToCus|\n",
      "+-------------+--------+-------------------+--------+-------+------------+--------+\n",
      "|(4,[1],[1.0])| 9839.64| -9839.640000000014|     0.0|      0|           0|       0|\n",
      "|(4,[1],[1.0])| 1864.28|-1864.2799999999988|     0.0|      0|           0|       0|\n",
      "|(4,[3],[1.0])|   181.0|             -181.0|     0.0|      1|           1|       1|\n",
      "|(4,[0],[1.0])|   181.0|             -181.0|-21182.0|      1|           1|       1|\n",
      "|(4,[1],[1.0])|11668.14|          -11668.14|     0.0|      0|           0|       0|\n",
      "+-------------+--------+-------------------+--------+-------+------------+--------+\n",
      "only showing top 5 rows\n",
      "\n"
     ]
    }
   ],
   "source": [
    "feature_cols = ['typeVec', 'amount', 'OrigDiff', 'DestDiff','isFraud', 'AmountEqOrig', 'CusToCus']\n",
    "feature_selection_df = data_encoded.select(feature_cols)\n",
    "cleaned_df = feature_selection_df.dropna()# YOUR CODE HERE\n",
    "cleaned_df.show(5)"
   ]
  },
  {
   "cell_type": "code",
   "execution_count": 71,
   "metadata": {},
   "outputs": [
    {
     "name": "stdout",
     "output_type": "stream",
     "text": [
      "6362620 6362620\n"
     ]
    }
   ],
   "source": [
    "orignumRows = feature_selection_df.count()\n",
    "numRows = cleaned_df.count()\n",
    "print(orignumRows, numRows)"
   ]
  },
  {
   "cell_type": "code",
   "execution_count": 72,
   "metadata": {},
   "outputs": [
    {
     "data": {
      "text/plain": [
       "8213"
      ]
     },
     "execution_count": 72,
     "metadata": {},
     "output_type": "execute_result"
    }
   ],
   "source": [
    "numPositives = cleaned_df.select(f.sum('isFraud')).collect()[0][0]\n",
    "numPositives"
   ]
  },
  {
   "cell_type": "code",
   "execution_count": 73,
   "metadata": {},
   "outputs": [
    {
     "data": {
      "text/plain": [
       "6354407"
      ]
     },
     "execution_count": 73,
     "metadata": {},
     "output_type": "execute_result"
    }
   ],
   "source": [
    "numNegatives = numRows - numPositives\n",
    "numNegatives"
   ]
  },
  {
   "cell_type": "code",
   "execution_count": 74,
   "metadata": {},
   "outputs": [
    {
     "name": "stdout",
     "output_type": "stream",
     "text": [
      "+-------+-------+\n",
      "|isFraud|  count|\n",
      "+-------+-------+\n",
      "|      1|   8213|\n",
      "|      0|6354407|\n",
      "+-------+-------+\n",
      "\n"
     ]
    }
   ],
   "source": [
    "cleaned_df.groupby('isFraud').count().show()"
   ]
  },
  {
   "cell_type": "code",
   "execution_count": 75,
   "metadata": {},
   "outputs": [
    {
     "name": "stdout",
     "output_type": "stream",
     "text": [
      "+--------+-------+\n",
      "|    type|  count|\n",
      "+--------+-------+\n",
      "|TRANSFER| 532909|\n",
      "| CASH_IN|1399284|\n",
      "|CASH_OUT|2237500|\n",
      "| PAYMENT|2151495|\n",
      "|   DEBIT|  41432|\n",
      "+--------+-------+\n",
      "\n"
     ]
    }
   ],
   "source": [
    "data.groupby('type').count().show()"
   ]
  },
  {
   "cell_type": "code",
   "execution_count": 76,
   "metadata": {},
   "outputs": [
    {
     "name": "stdout",
     "output_type": "stream",
     "text": [
      "+-------+------------------+\n",
      "|summary|            amount|\n",
      "+-------+------------------+\n",
      "|  count|           6362620|\n",
      "|   mean|179861.90354913412|\n",
      "| stddev| 603858.2314629498|\n",
      "|    min|               0.0|\n",
      "|    max|     9.244551664E7|\n",
      "+-------+------------------+\n",
      "\n"
     ]
    }
   ],
   "source": [
    "data.describe('amount').show()"
   ]
  },
  {
   "cell_type": "code",
   "execution_count": 77,
   "metadata": {},
   "outputs": [
    {
     "name": "stdout",
     "output_type": "stream",
     "text": [
      "+-------+------------------+\n",
      "|summary|              step|\n",
      "+-------+------------------+\n",
      "|  count|           6362620|\n",
      "|   mean|243.39724563151657|\n",
      "| stddev|142.33197104912588|\n",
      "|    min|                 1|\n",
      "|    max|               743|\n",
      "+-------+------------------+\n",
      "\n"
     ]
    }
   ],
   "source": [
    "data.describe('step').show()"
   ]
  },
  {
   "cell_type": "code",
   "execution_count": 78,
   "metadata": {},
   "outputs": [
    {
     "data": {
      "text/html": [
       "<div>\n",
       "<style scoped>\n",
       "    .dataframe tbody tr th:only-of-type {\n",
       "        vertical-align: middle;\n",
       "    }\n",
       "\n",
       "    .dataframe tbody tr th {\n",
       "        vertical-align: top;\n",
       "    }\n",
       "\n",
       "    .dataframe thead th {\n",
       "        text-align: right;\n",
       "    }\n",
       "</style>\n",
       "<table border=\"1\" class=\"dataframe\">\n",
       "  <thead>\n",
       "    <tr style=\"text-align: right;\">\n",
       "      <th></th>\n",
       "      <th>step</th>\n",
       "      <th>type</th>\n",
       "      <th>amount</th>\n",
       "      <th>nameOrig</th>\n",
       "      <th>oldbalanceOrg</th>\n",
       "      <th>newbalanceOrig</th>\n",
       "      <th>nameDest</th>\n",
       "      <th>oldbalanceDest</th>\n",
       "      <th>newbalanceDest</th>\n",
       "      <th>isFraud</th>\n",
       "      <th>isFlaggedFraud</th>\n",
       "      <th>OrigDiff</th>\n",
       "      <th>DestDiff</th>\n",
       "      <th>AmountEqOrig</th>\n",
       "      <th>CusToCus</th>\n",
       "    </tr>\n",
       "  </thead>\n",
       "  <tbody>\n",
       "    <tr>\n",
       "      <th>0</th>\n",
       "      <td>1</td>\n",
       "      <td>PAYMENT</td>\n",
       "      <td>9839.64</td>\n",
       "      <td>C1231006815</td>\n",
       "      <td>170136.00</td>\n",
       "      <td>160296.36</td>\n",
       "      <td>M1979787155</td>\n",
       "      <td>0.0</td>\n",
       "      <td>0.00</td>\n",
       "      <td>0</td>\n",
       "      <td>0</td>\n",
       "      <td>-9839.64</td>\n",
       "      <td>0.00</td>\n",
       "      <td>0</td>\n",
       "      <td>0</td>\n",
       "    </tr>\n",
       "    <tr>\n",
       "      <th>1</th>\n",
       "      <td>1</td>\n",
       "      <td>PAYMENT</td>\n",
       "      <td>1864.28</td>\n",
       "      <td>C1666544295</td>\n",
       "      <td>21249.00</td>\n",
       "      <td>19384.72</td>\n",
       "      <td>M2044282225</td>\n",
       "      <td>0.0</td>\n",
       "      <td>0.00</td>\n",
       "      <td>0</td>\n",
       "      <td>0</td>\n",
       "      <td>-1864.28</td>\n",
       "      <td>0.00</td>\n",
       "      <td>0</td>\n",
       "      <td>0</td>\n",
       "    </tr>\n",
       "    <tr>\n",
       "      <th>2</th>\n",
       "      <td>1</td>\n",
       "      <td>TRANSFER</td>\n",
       "      <td>181.00</td>\n",
       "      <td>C1305486145</td>\n",
       "      <td>181.00</td>\n",
       "      <td>0.00</td>\n",
       "      <td>C553264065</td>\n",
       "      <td>0.0</td>\n",
       "      <td>0.00</td>\n",
       "      <td>1</td>\n",
       "      <td>0</td>\n",
       "      <td>-181.00</td>\n",
       "      <td>0.00</td>\n",
       "      <td>1</td>\n",
       "      <td>1</td>\n",
       "    </tr>\n",
       "    <tr>\n",
       "      <th>3</th>\n",
       "      <td>1</td>\n",
       "      <td>CASH_OUT</td>\n",
       "      <td>181.00</td>\n",
       "      <td>C840083671</td>\n",
       "      <td>181.00</td>\n",
       "      <td>0.00</td>\n",
       "      <td>C38997010</td>\n",
       "      <td>21182.0</td>\n",
       "      <td>0.00</td>\n",
       "      <td>1</td>\n",
       "      <td>0</td>\n",
       "      <td>-181.00</td>\n",
       "      <td>-21182.00</td>\n",
       "      <td>1</td>\n",
       "      <td>1</td>\n",
       "    </tr>\n",
       "    <tr>\n",
       "      <th>4</th>\n",
       "      <td>1</td>\n",
       "      <td>PAYMENT</td>\n",
       "      <td>11668.14</td>\n",
       "      <td>C2048537720</td>\n",
       "      <td>41554.00</td>\n",
       "      <td>29885.86</td>\n",
       "      <td>M1230701703</td>\n",
       "      <td>0.0</td>\n",
       "      <td>0.00</td>\n",
       "      <td>0</td>\n",
       "      <td>0</td>\n",
       "      <td>-11668.14</td>\n",
       "      <td>0.00</td>\n",
       "      <td>0</td>\n",
       "      <td>0</td>\n",
       "    </tr>\n",
       "    <tr>\n",
       "      <th>5</th>\n",
       "      <td>1</td>\n",
       "      <td>PAYMENT</td>\n",
       "      <td>7817.71</td>\n",
       "      <td>C90045638</td>\n",
       "      <td>53860.00</td>\n",
       "      <td>46042.29</td>\n",
       "      <td>M573487274</td>\n",
       "      <td>0.0</td>\n",
       "      <td>0.00</td>\n",
       "      <td>0</td>\n",
       "      <td>0</td>\n",
       "      <td>-7817.71</td>\n",
       "      <td>0.00</td>\n",
       "      <td>0</td>\n",
       "      <td>0</td>\n",
       "    </tr>\n",
       "    <tr>\n",
       "      <th>6</th>\n",
       "      <td>1</td>\n",
       "      <td>PAYMENT</td>\n",
       "      <td>7107.77</td>\n",
       "      <td>C154988899</td>\n",
       "      <td>183195.00</td>\n",
       "      <td>176087.23</td>\n",
       "      <td>M408069119</td>\n",
       "      <td>0.0</td>\n",
       "      <td>0.00</td>\n",
       "      <td>0</td>\n",
       "      <td>0</td>\n",
       "      <td>-7107.77</td>\n",
       "      <td>0.00</td>\n",
       "      <td>0</td>\n",
       "      <td>0</td>\n",
       "    </tr>\n",
       "    <tr>\n",
       "      <th>7</th>\n",
       "      <td>1</td>\n",
       "      <td>PAYMENT</td>\n",
       "      <td>7861.64</td>\n",
       "      <td>C1912850431</td>\n",
       "      <td>176087.23</td>\n",
       "      <td>168225.59</td>\n",
       "      <td>M633326333</td>\n",
       "      <td>0.0</td>\n",
       "      <td>0.00</td>\n",
       "      <td>0</td>\n",
       "      <td>0</td>\n",
       "      <td>-7861.64</td>\n",
       "      <td>0.00</td>\n",
       "      <td>0</td>\n",
       "      <td>0</td>\n",
       "    </tr>\n",
       "    <tr>\n",
       "      <th>8</th>\n",
       "      <td>1</td>\n",
       "      <td>PAYMENT</td>\n",
       "      <td>4024.36</td>\n",
       "      <td>C1265012928</td>\n",
       "      <td>2671.00</td>\n",
       "      <td>0.00</td>\n",
       "      <td>M1176932104</td>\n",
       "      <td>0.0</td>\n",
       "      <td>0.00</td>\n",
       "      <td>0</td>\n",
       "      <td>0</td>\n",
       "      <td>-2671.00</td>\n",
       "      <td>0.00</td>\n",
       "      <td>0</td>\n",
       "      <td>0</td>\n",
       "    </tr>\n",
       "    <tr>\n",
       "      <th>9</th>\n",
       "      <td>1</td>\n",
       "      <td>DEBIT</td>\n",
       "      <td>5337.77</td>\n",
       "      <td>C712410124</td>\n",
       "      <td>41720.00</td>\n",
       "      <td>36382.23</td>\n",
       "      <td>C195600860</td>\n",
       "      <td>41898.0</td>\n",
       "      <td>40348.79</td>\n",
       "      <td>0</td>\n",
       "      <td>0</td>\n",
       "      <td>-5337.77</td>\n",
       "      <td>-1549.21</td>\n",
       "      <td>0</td>\n",
       "      <td>1</td>\n",
       "    </tr>\n",
       "  </tbody>\n",
       "</table>\n",
       "</div>"
      ],
      "text/plain": [
       "   step      type    amount     nameOrig  oldbalanceOrg  newbalanceOrig  \\\n",
       "0     1   PAYMENT   9839.64  C1231006815      170136.00       160296.36   \n",
       "1     1   PAYMENT   1864.28  C1666544295       21249.00        19384.72   \n",
       "2     1  TRANSFER    181.00  C1305486145         181.00            0.00   \n",
       "3     1  CASH_OUT    181.00   C840083671         181.00            0.00   \n",
       "4     1   PAYMENT  11668.14  C2048537720       41554.00        29885.86   \n",
       "5     1   PAYMENT   7817.71    C90045638       53860.00        46042.29   \n",
       "6     1   PAYMENT   7107.77   C154988899      183195.00       176087.23   \n",
       "7     1   PAYMENT   7861.64  C1912850431      176087.23       168225.59   \n",
       "8     1   PAYMENT   4024.36  C1265012928        2671.00            0.00   \n",
       "9     1     DEBIT   5337.77   C712410124       41720.00        36382.23   \n",
       "\n",
       "      nameDest  oldbalanceDest  newbalanceDest  isFraud  isFlaggedFraud  \\\n",
       "0  M1979787155             0.0            0.00        0               0   \n",
       "1  M2044282225             0.0            0.00        0               0   \n",
       "2   C553264065             0.0            0.00        1               0   \n",
       "3    C38997010         21182.0            0.00        1               0   \n",
       "4  M1230701703             0.0            0.00        0               0   \n",
       "5   M573487274             0.0            0.00        0               0   \n",
       "6   M408069119             0.0            0.00        0               0   \n",
       "7   M633326333             0.0            0.00        0               0   \n",
       "8  M1176932104             0.0            0.00        0               0   \n",
       "9   C195600860         41898.0        40348.79        0               0   \n",
       "\n",
       "   OrigDiff  DestDiff  AmountEqOrig  CusToCus  \n",
       "0  -9839.64      0.00             0         0  \n",
       "1  -1864.28      0.00             0         0  \n",
       "2   -181.00      0.00             1         1  \n",
       "3   -181.00 -21182.00             1         1  \n",
       "4 -11668.14      0.00             0         0  \n",
       "5  -7817.71      0.00             0         0  \n",
       "6  -7107.77      0.00             0         0  \n",
       "7  -7861.64      0.00             0         0  \n",
       "8  -2671.00      0.00             0         0  \n",
       "9  -5337.77  -1549.21             0         1  "
      ]
     },
     "execution_count": 78,
     "metadata": {},
     "output_type": "execute_result"
    }
   ],
   "source": [
    "data.limit(10).toPandas()"
   ]
  },
  {
   "cell_type": "code",
   "execution_count": 79,
   "metadata": {},
   "outputs": [
    {
     "data": {
      "text/plain": [
       "(0, 6500000)"
      ]
     },
     "execution_count": 79,
     "metadata": {},
     "output_type": "execute_result"
    },
    {
     "data": {
      "image/png": "[encoded data removed]",
      "text/plain": [
       "<Figure size 432x288 with 1 Axes>"
      ]
     },
     "metadata": {
      "needs_background": "light"
     },
     "output_type": "display_data"
    }
   ],
   "source": [
    "fig = plt.figure()\n",
    "s = fig.add_subplot(111)\n",
    "s.bar([0, 1], [numNegatives, numPositives], width=1)\n",
    "s.set_xlim(0, 1)\n",
    "s.set_ylim(0, 6500000)"
   ]
  },
  {
   "cell_type": "markdown",
   "metadata": {},
   "source": [
    "## 2) Data Preprocessing"
   ]
  },
  {
   "cell_type": "markdown",
   "metadata": {},
   "source": [
    "### 2.b) Assemble a feature vector column \n",
    "\n",
    "Assemble a Vector column. Most Spark ML classes only work with Vector objects. \n"
   ]
  },
  {
   "cell_type": "code",
   "execution_count": 80,
   "metadata": {},
   "outputs": [
    {
     "name": "stdout",
     "output_type": "stream",
     "text": [
      "+-------------+--------+-------------------+--------+-------+------------+--------+--------------------+\n",
      "|      typeVec|  amount|           OrigDiff|DestDiff|isFraud|AmountEqOrig|CusToCus|   features_unscaled|\n",
      "+-------------+--------+-------------------+--------+-------+------------+--------+--------------------+\n",
      "|(4,[1],[1.0])| 9839.64| -9839.640000000014|     0.0|      0|           0|       0|(9,[1,4,5],[1.0,9...|\n",
      "|(4,[1],[1.0])| 1864.28|-1864.2799999999988|     0.0|      0|           0|       0|(9,[1,4,5],[1.0,1...|\n",
      "|(4,[3],[1.0])|   181.0|             -181.0|     0.0|      1|           1|       1|[0.0,0.0,0.0,1.0,...|\n",
      "|(4,[0],[1.0])|   181.0|             -181.0|-21182.0|      1|           1|       1|[1.0,0.0,0.0,0.0,...|\n",
      "|(4,[1],[1.0])|11668.14|          -11668.14|     0.0|      0|           0|       0|(9,[1,4,5],[1.0,1...|\n",
      "+-------------+--------+-------------------+--------+-------+------------+--------+--------------------+\n",
      "only showing top 5 rows\n",
      "\n"
     ]
    }
   ],
   "source": [
    "from pyspark.ml.feature import VectorAssembler\n",
    "\n",
    "# Create a vector column composed of all the features\n",
    "feature_only = ['typeVec', 'amount', 'OrigDiff', 'DestDiff', 'AmountEqOrig', 'CusToCus']\n",
    "\n",
    "assembler = VectorAssembler(inputCols = feature_only, outputCol = \"features_unscaled\") # YOUR CODE HERE\n",
    "\n",
    "features_df = assembler.transform(cleaned_df)# YOUR CODE HERE\n",
    "features_df.show(5)\n"
   ]
  },
  {
   "cell_type": "markdown",
   "metadata": {},
   "source": [
    "### 2.c) Randomly split the DataFrame into train and test datasets\n",
    "\n",
    "Perform a random train-test split of the dataframe using the random seed you set earlier\n"
   ]
  },
  {
   "cell_type": "code",
   "execution_count": 81,
   "metadata": {},
   "outputs": [
    {
     "name": "stdout",
     "output_type": "stream",
     "text": [
      "+---------+------+-------------------+------------------+-------+------------+--------+--------------------+\n",
      "|  typeVec|amount|           OrigDiff|          DestDiff|isFraud|AmountEqOrig|CusToCus|   features_unscaled|\n",
      "+---------+------+-------------------+------------------+-------+------------+--------+--------------------+\n",
      "|(4,[],[])|  3.81|-3.8100000000000023| 577718.0899999999|      0|           0|       1|(9,[4,5,6,8],[3.8...|\n",
      "|(4,[],[])|  3.83|-3.8299999999580905|        1547379.38|      0|           0|       1|(9,[4,5,6,8],[3.8...|\n",
      "|(4,[],[])|  4.62| -4.619999999995343|-278555.0499999998|      0|           0|       1|(9,[4,5,6,8],[4.6...|\n",
      "|(4,[],[])|  5.39| -5.389999999999418|476333.83999999985|      0|           0|       1|(9,[4,5,6,8],[5.3...|\n",
      "|(4,[],[])|  6.57| -6.569999999999709| 6.569999999977881|      0|           0|       1|(9,[4,5,6,8],[6.5...|\n",
      "+---------+------+-------------------+------------------+-------+------------+--------+--------------------+\n",
      "only showing top 5 rows\n",
      "\n",
      "+---------+------+-------------------+------------------+-------+------------+--------+--------------------+\n",
      "|  typeVec|amount|           OrigDiff|          DestDiff|isFraud|AmountEqOrig|CusToCus|   features_unscaled|\n",
      "+---------+------+-------------------+------------------+-------+------------+--------+--------------------+\n",
      "|(4,[],[])|  0.87|-0.8699999999989814|          303631.9|      0|           0|       1|(9,[4,5,6,8],[0.8...|\n",
      "|(4,[],[])|  1.66|-1.6599999999998545|1.6600000000325963|      0|           0|       1|(9,[4,5,6,8],[1.6...|\n",
      "|(4,[],[])|  3.08|-3.0800000000017462|3.0699999999487773|      0|           0|       1|(9,[4,5,6,8],[3.0...|\n",
      "|(4,[],[])| 13.81|-13.810000000000002| 5423.680000000168|      0|           0|       1|(9,[4,5,6,8],[13....|\n",
      "|(4,[],[])| 23.89|-23.889999999999418| 23.89000000001397|      0|           0|       1|(9,[4,5,6,8],[23....|\n",
      "+---------+------+-------------------+------------------+-------+------------+--------+--------------------+\n",
      "only showing top 5 rows\n",
      "\n"
     ]
    }
   ],
   "source": [
    "train_df, test_df = features_df.randomSplit((0.8,0.2),seed=rand_seed)# YOUR CODE HERE\n",
    "train_df.show(5)\n",
    "test_df.show(5)"
   ]
  },
  {
   "cell_type": "markdown",
   "metadata": {},
   "source": [
    "### 2.d) Normalize values in the dataframes by fitting a StandardScaler on them\n",
    "\n",
    "Fit a StandardScaler on our train set, and use it to transform both the train and test sets to have zero mean and unit variance\n",
    "- **fit**(train_set) -- calculates means and standard devations of train set\n",
    "- **transform**(train or test set) -- standardizes each column by subtracting the mean and dividing by the standard deviation (corresponding to the data on which it was fit)<br>\n",
    "\n",
    "This means that each feature of our data will be scaled with respect to the means and standard deviations of the training set only (which is important when we want to see how well the model generalizes to new data).\n",
    "\n",
    "Fit a StandardScaler on the training data, and normalize both train and test datasets\n"
   ]
  },
  {
   "cell_type": "code",
   "execution_count": 82,
   "metadata": {},
   "outputs": [
    {
     "name": "stdout",
     "output_type": "stream",
     "text": [
      "+---------+------+-------------------+------------------+-------+------------+--------+--------------------+--------------------+\n",
      "|  typeVec|amount|           OrigDiff|          DestDiff|isFraud|AmountEqOrig|CusToCus|   features_unscaled|            features|\n",
      "+---------+------+-------------------+------------------+-------+------------+--------+--------------------+--------------------+\n",
      "|(4,[],[])|  3.81|-3.8100000000000023| 577718.0899999999|      0|           0|       1|(9,[4,5,6,8],[3.8...|[-0.7363392917938...|\n",
      "|(4,[],[])|  3.83|-3.8299999999580905|        1547379.38|      0|           0|       1|(9,[4,5,6,8],[3.8...|[-0.7363392917938...|\n",
      "|(4,[],[])|  4.62| -4.619999999995343|-278555.0499999998|      0|           0|       1|(9,[4,5,6,8],[4.6...|[-0.7363392917938...|\n",
      "|(4,[],[])|  5.39| -5.389999999999418|476333.83999999985|      0|           0|       1|(9,[4,5,6,8],[5.3...|[-0.7363392917938...|\n",
      "|(4,[],[])|  6.57| -6.569999999999709| 6.569999999977881|      0|           0|       1|(9,[4,5,6,8],[6.5...|[-0.7363392917938...|\n",
      "+---------+------+-------------------+------------------+-------+------------+--------+--------------------+--------------------+\n",
      "only showing top 5 rows\n",
      "\n",
      "+---------+------+-------------------+------------------+-------+------------+--------+--------------------+--------------------+\n",
      "|  typeVec|amount|           OrigDiff|          DestDiff|isFraud|AmountEqOrig|CusToCus|   features_unscaled|            features|\n",
      "+---------+------+-------------------+------------------+-------+------------+--------+--------------------+--------------------+\n",
      "|(4,[],[])|  0.87|-0.8699999999989814|          303631.9|      0|           0|       1|(9,[4,5,6,8],[0.8...|[-0.7363392917938...|\n",
      "|(4,[],[])|  1.66|-1.6599999999998545|1.6600000000325963|      0|           0|       1|(9,[4,5,6,8],[1.6...|[-0.7363392917938...|\n",
      "|(4,[],[])|  3.08|-3.0800000000017462|3.0699999999487773|      0|           0|       1|(9,[4,5,6,8],[3.0...|[-0.7363392917938...|\n",
      "|(4,[],[])| 13.81|-13.810000000000002| 5423.680000000168|      0|           0|       1|(9,[4,5,6,8],[13....|[-0.7363392917938...|\n",
      "|(4,[],[])| 23.89|-23.889999999999418| 23.89000000001397|      0|           0|       1|(9,[4,5,6,8],[23....|[-0.7363392917938...|\n",
      "+---------+------+-------------------+------------------+-------+------------+--------+--------------------+--------------------+\n",
      "only showing top 5 rows\n",
      "\n"
     ]
    }
   ],
   "source": [
    "from pyspark.ml.feature import StandardScaler\n",
    "\n",
    "scaler = StandardScaler(inputCol = \"features_unscaled\", \n",
    "                        outputCol = \"features\",\n",
    "                        withStd = True, withMean = True)# YOUR CODE HERE\n",
    "scalerModel = scaler.fit(train_df)\n",
    "\n",
    "train_df = scalerModel.transform(train_df)# YOUR CODE HERE\n",
    "test_df = scalerModel.transform(test_df) # YOUR CODE HERE\n",
    "train_df.show(5)\n",
    "test_df.show(5)"
   ]
  },
  {
   "cell_type": "code",
   "execution_count": 83,
   "metadata": {},
   "outputs": [
    {
     "name": "stdout",
     "output_type": "stream",
     "text": [
      "BalancingRatio = 0.9987091795518198\n"
     ]
    }
   ],
   "source": [
    "BalancingRatio= numNegatives/numRows\n",
    "print('BalancingRatio = {}'.format(BalancingRatio))"
   ]
  },
  {
   "cell_type": "code",
   "execution_count": 84,
   "metadata": {},
   "outputs": [
    {
     "name": "stdout",
     "output_type": "stream",
     "text": [
      "+--------------------+\n",
      "|        classWeights|\n",
      "+--------------------+\n",
      "|0.001290820448180...|\n",
      "|0.001290820448180...|\n",
      "|0.001290820448180...|\n",
      "|0.001290820448180...|\n",
      "|0.001290820448180...|\n",
      "+--------------------+\n",
      "only showing top 5 rows\n",
      "\n"
     ]
    }
   ],
   "source": [
    "train_df=train_df.withColumn(\"classWeights\", f.when(train_df.isFraud == 1,BalancingRatio).otherwise(1-BalancingRatio))\n",
    "train_df.select(\"classWeights\").show(5)"
   ]
  },
  {
   "cell_type": "markdown",
   "metadata": {},
   "source": [
    "## 3) Classification using Logistic Regression"
   ]
  },
  {
   "cell_type": "code",
   "execution_count": 30,
   "metadata": {},
   "outputs": [
    {
     "name": "stdout",
     "output_type": "stream",
     "text": [
      "+-------+----------+\n",
      "|isFraud|prediction|\n",
      "+-------+----------+\n",
      "|      0|       0.0|\n",
      "|      0|       0.0|\n",
      "|      0|       0.0|\n",
      "|      0|       0.0|\n",
      "|      0|       0.0|\n",
      "|      0|       0.0|\n",
      "|      0|       0.0|\n",
      "|      0|       0.0|\n",
      "|      0|       0.0|\n",
      "|      0|       0.0|\n",
      "+-------+----------+\n",
      "only showing top 10 rows\n",
      "\n"
     ]
    }
   ],
   "source": [
    "from pyspark.ml.classification import LogisticRegression\n",
    "lr = LogisticRegression(labelCol=\"isFraud\", featuresCol=\"features\",weightCol=\"classWeights\",maxIter=10)\n",
    "model=lr.fit(train_df)\n",
    "predict_train=model.transform(train_df)\n",
    "predict_test=model.transform(test_df)\n",
    "predict_test.select(\"isFraud\",\"prediction\").show(10)"
   ]
  },
  {
   "cell_type": "code",
   "execution_count": 31,
   "metadata": {},
   "outputs": [
    {
     "name": "stdout",
     "output_type": "stream",
     "text": [
      "+-------+--------------------+----------+--------------------+\n",
      "|isFraud|       rawPrediction|prediction|         probability|\n",
      "+-------+--------------------+----------+--------------------+\n",
      "|      0|[6.49468247312774...|       0.0|[0.99849082598400...|\n",
      "|      0|[6.31819583405064...|       0.0|[0.99820005182125...|\n",
      "|      0|[6.318195188257,-...|       0.0|[0.99820005066095...|\n",
      "|      0|[6.32133485840001...|       0.0|[0.99820568292167...|\n",
      "|      0|[6.31818581519121...|       0.0|[0.99820003382020...|\n",
      "+-------+--------------------+----------+--------------------+\n",
      "only showing top 5 rows\n",
      "\n",
      "The area under ROC for train set is 0.999015613093102\n",
      "The area under ROC for test set is 0.9993384755465694\n"
     ]
    }
   ],
   "source": [
    "from pyspark.ml.evaluation import BinaryClassificationEvaluator\n",
    "evaluator=BinaryClassificationEvaluator(rawPredictionCol=\"rawPrediction\",labelCol=\"isFraud\")\n",
    "\n",
    "predict_test.select(\"isFraud\",\"rawPrediction\",\"prediction\",\"probability\").show(5)\n",
    "print(\"The area under ROC for train set is {}\".format(evaluator.evaluate(predict_train)))\n",
    "print(\"The area under ROC for test set is {}\".format(evaluator.evaluate(predict_test)))"
   ]
  },
  {
   "cell_type": "code",
   "execution_count": 32,
   "metadata": {},
   "outputs": [
    {
     "name": "stdout",
     "output_type": "stream",
     "text": [
      "+-------+--------------------+----------+--------------------+\n",
      "|isFraud|       rawPrediction|prediction|         probability|\n",
      "+-------+--------------------+----------+--------------------+\n",
      "|      0|[6.49468247312774...|       0.0|[0.99849082598400...|\n",
      "|      0|[6.31819583405064...|       0.0|[0.99820005182125...|\n",
      "|      0|[6.318195188257,-...|       0.0|[0.99820005066095...|\n",
      "|      0|[6.32133485840001...|       0.0|[0.99820568292167...|\n",
      "|      0|[6.31818581519121...|       0.0|[0.99820003382020...|\n",
      "+-------+--------------------+----------+--------------------+\n",
      "only showing top 5 rows\n",
      "\n",
      "The area under ROC for train set is 0.9990156130924803\n",
      "The area under ROC for test set is 0.9993384755471701\n"
     ]
    }
   ],
   "source": [
    "#evaluator=BinaryClassificationEvaluator(rawPredictionCol=\"rawPrediction\",labelCol=\"isFraud\")\n",
    "evaluator=BinaryClassificationEvaluator(labelCol=\"isFraud\",metricName='areaUnderROC')\n",
    "\n",
    "predict_test.select(\"isFraud\",\"rawPrediction\",\"prediction\",\"probability\").show(5)\n",
    "print(\"The area under ROC for train set is {}\".format(evaluator.evaluate(predict_train)))\n",
    "print(\"The area under ROC for test set is {}\".format(evaluator.evaluate(predict_test)))"
   ]
  },
  {
   "cell_type": "code",
   "execution_count": 33,
   "metadata": {},
   "outputs": [
    {
     "data": {
      "text/plain": [
       "6569.0"
      ]
     },
     "execution_count": 33,
     "metadata": {},
     "output_type": "execute_result"
    }
   ],
   "source": [
    "train_predyes = predict_train.agg(f.sum(\"prediction\")).collect()[0][0]\n",
    "train_predyes"
   ]
  },
  {
   "cell_type": "code",
   "execution_count": 34,
   "metadata": {},
   "outputs": [
    {
     "data": {
      "text/plain": [
       "1637.0"
      ]
     },
     "execution_count": 34,
     "metadata": {},
     "output_type": "execute_result"
    }
   ],
   "source": [
    "test_predyes = predict_test.agg(f.sum(\"prediction\")).collect()[0][0]\n",
    "test_predyes"
   ]
  },
  {
   "cell_type": "code",
   "execution_count": 35,
   "metadata": {},
   "outputs": [
    {
     "data": {
      "text/plain": [
       "5091286"
      ]
     },
     "execution_count": 35,
     "metadata": {},
     "output_type": "execute_result"
    }
   ],
   "source": [
    "train_count = predict_train.select(\"prediction\").count()\n",
    "train_count"
   ]
  },
  {
   "cell_type": "code",
   "execution_count": 36,
   "metadata": {},
   "outputs": [
    {
     "data": {
      "text/plain": [
       "1271334"
      ]
     },
     "execution_count": 36,
     "metadata": {},
     "output_type": "execute_result"
    }
   ],
   "source": [
    "test_count = predict_test.select(\"prediction\").count()\n",
    "test_count"
   ]
  },
  {
   "cell_type": "code",
   "execution_count": 37,
   "metadata": {},
   "outputs": [
    {
     "data": {
      "text/plain": [
       "0.0012902437615957933"
      ]
     },
     "execution_count": 37,
     "metadata": {},
     "output_type": "execute_result"
    }
   ],
   "source": [
    "#train predicting yes precentage\n",
    "train_predyes/train_count"
   ]
  },
  {
   "cell_type": "code",
   "execution_count": 38,
   "metadata": {},
   "outputs": [
    {
     "data": {
      "text/plain": [
       "0.0012876238659549732"
      ]
     },
     "execution_count": 38,
     "metadata": {},
     "output_type": "execute_result"
    }
   ],
   "source": [
    "#test predicting yes precentage\n",
    "test_predyes/test_count"
   ]
  },
  {
   "cell_type": "code",
   "execution_count": 39,
   "metadata": {},
   "outputs": [
    {
     "name": "stdout",
     "output_type": "stream",
     "text": [
      "              precision    recall  f1-score   support\n",
      "\n",
      "           0       1.00      1.00      1.00   5084714\n",
      "           1       1.00      1.00      1.00      6572\n",
      "\n",
      "    accuracy                           1.00   5091286\n",
      "   macro avg       1.00      1.00      1.00   5091286\n",
      "weighted avg       1.00      1.00      1.00   5091286\n",
      "\n"
     ]
    }
   ],
   "source": [
    "from sklearn.metrics import classification_report, confusion_matrix\n",
    "\n",
    "y_true_train = predict_train.select(['isFraud']).collect()\n",
    "y_pred_train = predict_train.select(['prediction']).collect()\n",
    "\n",
    "print(classification_report(y_true_train, y_pred_train))"
   ]
  },
  {
   "cell_type": "code",
   "execution_count": 40,
   "metadata": {},
   "outputs": [
    {
     "data": {
      "text/plain": [
       "(5084692, 22, 25, 6547)"
      ]
     },
     "execution_count": 40,
     "metadata": {},
     "output_type": "execute_result"
    }
   ],
   "source": [
    "tn, fp, fn, tp = confusion_matrix(y_true_train, y_pred_train).ravel()\n",
    "(tn, fp, fn, tp)"
   ]
  },
  {
   "cell_type": "code",
   "execution_count": 41,
   "metadata": {},
   "outputs": [
    {
     "data": {
      "text/plain": [
       "(1269689, 4, 8, 1633)"
      ]
     },
     "execution_count": 41,
     "metadata": {},
     "output_type": "execute_result"
    }
   ],
   "source": [
    "y_true = predict_test.select(['isFraud']).collect()\n",
    "y_pred = predict_test.select(['prediction']).collect()\n",
    "\n",
    "tn, fp, fn, tp = confusion_matrix(y_true, y_pred).ravel()\n",
    "(tn, fp, fn, tp)"
   ]
  },
  {
   "cell_type": "code",
   "execution_count": 42,
   "metadata": {},
   "outputs": [
    {
     "data": {
      "text/plain": [
       "0.9963392312385602"
      ]
     },
     "execution_count": 42,
     "metadata": {},
     "output_type": "execute_result"
    }
   ],
   "source": [
    "from sklearn import metrics\n",
    "f1 = metrics.fbeta_score(y_true, y_pred, beta = 1)\n",
    "f1"
   ]
  },
  {
   "cell_type": "code",
   "execution_count": 43,
   "metadata": {},
   "outputs": [
    {
     "name": "stdout",
     "output_type": "stream",
     "text": [
      "Coefficients: [0.2865887693794584,-0.1548749000330418,-0.88847349828836,0.2248359700842378,0.41213679206349657,-0.05158101172026544,-0.47259133461328795,0.405480991462613,0.15487490003303997]\n",
      "Intercept: -6.675238107359787\n"
     ]
    }
   ],
   "source": [
    "print(\"Coefficients: \" + str(model.coefficients))\n",
    "print(\"Intercept: \" + str(model.intercept))"
   ]
  },
  {
   "cell_type": "code",
   "execution_count": 44,
   "metadata": {},
   "outputs": [
    {
     "data": {
      "text/plain": [
       "array([1.33187639, 0.85652232, 0.4112831 , 1.25211731, 1.51004098,\n",
       "       0.94972671, 0.62338477, 1.50002383, 1.1675119 ])"
      ]
     },
     "execution_count": 44,
     "metadata": {},
     "output_type": "execute_result"
    }
   ],
   "source": [
    "log_odds_ratios = np.exp(model.coefficients)\n",
    "log_odds_ratios"
   ]
  },
  {
   "cell_type": "code",
   "execution_count": 45,
   "metadata": {},
   "outputs": [],
   "source": [
    "temp = predict_test.select('typeVec','amount','AmountEqOrig','CusToCus','probability','prediction','isFraud')"
   ]
  },
  {
   "cell_type": "code",
   "execution_count": 46,
   "metadata": {},
   "outputs": [
    {
     "name": "stdout",
     "output_type": "stream",
     "text": [
      "+-------------+---------+------------+--------+--------------------+----------+-------+\n",
      "|      typeVec|   amount|AmountEqOrig|CusToCus|         probability|prediction|isFraud|\n",
      "+-------------+---------+------------+--------+--------------------+----------+-------+\n",
      "|(4,[0],[1.0])| 95428.32|           0|       1|[0.99669327564200...|       0.0|      1|\n",
      "|(4,[0],[1.0])|234377.29|           0|       1|[0.99664748085947...|       0.0|      1|\n",
      "|(4,[0],[1.0])|314251.58|           0|       1|[0.99652978712538...|       0.0|      1|\n",
      "|(4,[0],[1.0])|407005.78|           0|       1|[0.99658970459613...|       0.0|      1|\n",
      "|(4,[0],[1.0])| 508782.2|           0|       1|[0.99655517763544...|       0.0|      1|\n",
      "|(4,[0],[1.0])|577418.98|           0|       1|[0.99653169661464...|       0.0|      1|\n",
      "|(4,[3],[1.0])| 994453.2|           0|       1|[0.99146247423639...|       0.0|      1|\n",
      "|(4,[3],[1.0])|399045.08|           0|       1|[0.99470467671888...|       0.0|      1|\n",
      "+-------------+---------+------------+--------+--------------------+----------+-------+\n",
      "\n"
     ]
    }
   ],
   "source": [
    "temp.filter( (temp.prediction==0) & (temp.isFraud==1 )).show(10)"
   ]
  },
  {
   "cell_type": "code",
   "execution_count": 47,
   "metadata": {},
   "outputs": [
    {
     "data": {
      "text/plain": [
       "36"
      ]
     },
     "execution_count": 47,
     "metadata": {},
     "output_type": "execute_result"
    }
   ],
   "source": [
    "temp.filter((temp.isFraud == 1) & (temp.AmountEqOrig==0)).count()"
   ]
  },
  {
   "cell_type": "code",
   "execution_count": 48,
   "metadata": {},
   "outputs": [
    {
     "name": "stdout",
     "output_type": "stream",
     "text": [
      "+-------------+---------+------------+--------+--------------------+----------+-------+\n",
      "|      typeVec|   amount|AmountEqOrig|CusToCus|         probability|prediction|isFraud|\n",
      "+-------------+---------+------------+--------+--------------------+----------+-------+\n",
      "|(4,[0],[1.0])| 95428.32|           0|       1|[0.99669327564200...|       0.0|      1|\n",
      "|(4,[0],[1.0])|234377.29|           0|       1|[0.99664748085947...|       0.0|      1|\n",
      "|(4,[0],[1.0])|314251.58|           0|       1|[0.99652978712538...|       0.0|      1|\n",
      "|(4,[0],[1.0])|407005.78|           0|       1|[0.99658970459613...|       0.0|      1|\n",
      "|(4,[0],[1.0])| 508782.2|           0|       1|[0.99655517763544...|       0.0|      1|\n",
      "|(4,[0],[1.0])|577418.98|           0|       1|[0.99653169661464...|       0.0|      1|\n",
      "|(4,[3],[1.0])| 994453.2|           0|       1|[0.99146247423639...|       0.0|      1|\n",
      "|(4,[3],[1.0])|    1.0E7|           0|       1|[0.00806411573733...|       1.0|      1|\n",
      "|(4,[3],[1.0])|    1.0E7|           0|       1|[0.00806411573733...|       1.0|      1|\n",
      "|(4,[3],[1.0])|    1.0E7|           0|       1|[0.00806411573733...|       1.0|      1|\n",
      "|(4,[3],[1.0])|    1.0E7|           0|       1|[0.00806411573733...|       1.0|      1|\n",
      "|(4,[3],[1.0])|    1.0E7|           0|       1|[0.00806411573733...|       1.0|      1|\n",
      "|(4,[3],[1.0])|    1.0E7|           0|       1|[0.00806411573733...|       1.0|      1|\n",
      "|(4,[3],[1.0])|    1.0E7|           0|       1|[0.00806411573733...|       1.0|      1|\n",
      "|(4,[3],[1.0])|399045.08|           0|       1|[0.99470467671888...|       0.0|      1|\n",
      "|(4,[3],[1.0])|    1.0E7|           0|       1|[0.00806411573733...|       1.0|      1|\n",
      "|(4,[3],[1.0])|    1.0E7|           0|       1|[0.00806411573733...|       1.0|      1|\n",
      "|(4,[3],[1.0])|    1.0E7|           0|       1|[0.00806411573733...|       1.0|      1|\n",
      "|(4,[3],[1.0])|    1.0E7|           0|       1|[0.00806411573733...|       1.0|      1|\n",
      "|(4,[3],[1.0])|    1.0E7|           0|       1|[0.00806411573733...|       1.0|      1|\n",
      "|(4,[3],[1.0])|    1.0E7|           0|       1|[0.00806411573733...|       1.0|      1|\n",
      "|(4,[3],[1.0])|    1.0E7|           0|       1|[0.00806411573733...|       1.0|      1|\n",
      "|(4,[3],[1.0])|    1.0E7|           0|       1|[0.00806411573733...|       1.0|      1|\n",
      "|(4,[3],[1.0])|    1.0E7|           0|       1|[0.00806411573733...|       1.0|      1|\n",
      "|(4,[3],[1.0])|    1.0E7|           0|       1|[0.00806411573733...|       1.0|      1|\n",
      "|(4,[3],[1.0])|    1.0E7|           0|       1|[0.00806411573733...|       1.0|      1|\n",
      "|(4,[3],[1.0])|    1.0E7|           0|       1|[0.00806411573733...|       1.0|      1|\n",
      "|(4,[3],[1.0])|    1.0E7|           0|       1|[0.00806411573733...|       1.0|      1|\n",
      "|(4,[3],[1.0])|    1.0E7|           0|       1|[0.00806411573733...|       1.0|      1|\n",
      "|(4,[3],[1.0])|    1.0E7|           0|       1|[0.00806411573733...|       1.0|      1|\n",
      "|(4,[3],[1.0])|    1.0E7|           0|       1|[0.00806411573733...|       1.0|      1|\n",
      "|(4,[3],[1.0])|    1.0E7|           0|       1|[0.00806411573733...|       1.0|      1|\n",
      "|(4,[3],[1.0])|    1.0E7|           0|       1|[0.00806411573733...|       1.0|      1|\n",
      "|(4,[3],[1.0])|    1.0E7|           0|       1|[0.00806411573733...|       1.0|      1|\n",
      "|(4,[3],[1.0])|    1.0E7|           0|       1|[0.00806411573733...|       1.0|      1|\n",
      "|(4,[3],[1.0])|    1.0E7|           0|       1|[0.00806411573733...|       1.0|      1|\n",
      "+-------------+---------+------------+--------+--------------------+----------+-------+\n",
      "\n"
     ]
    }
   ],
   "source": [
    "temp.filter((temp.isFraud == 1) & (temp.AmountEqOrig==0)).show(36)"
   ]
  },
  {
   "cell_type": "markdown",
   "metadata": {},
   "source": [
    "## 4) Classification using Multilayer perceptron classifier (1 layers of 1 nodes)"
   ]
  },
  {
   "cell_type": "code",
   "execution_count": 49,
   "metadata": {},
   "outputs": [],
   "source": [
    "from pyspark.ml.classification import MultilayerPerceptronClassifier\n",
    "# specify layers for the neural network:\n",
    "# input layer of size 9 (features), 1 intermediate of size 1\n",
    "# and output of size 2 (classes)\n",
    "layers1 = [9, 1, 2]\n",
    "\n",
    "# create the trainer and set its parameters\n",
    "trainer1 = MultilayerPerceptronClassifier(maxIter=100, layers=layers1, blockSize=128, labelCol='isFraud', seed=rand_seed)\n",
    "\n",
    "# train the model\n",
    "model_nn1 = trainer1.fit(train_df)\n",
    "\n",
    "# compute accuracy on the test set\n",
    "predict_train_nn1 = model_nn1.transform(train_df)\n",
    "predict_test_nn1 = model_nn1.transform(test_df)"
   ]
  },
  {
   "cell_type": "code",
   "execution_count": 50,
   "metadata": {},
   "outputs": [
    {
     "name": "stdout",
     "output_type": "stream",
     "text": [
      "+-------+--------------------+----------+--------------------+\n",
      "|isFraud|       rawPrediction|prediction|         probability|\n",
      "+-------+--------------------+----------+--------------------+\n",
      "|      0|[7.17792741858005...|       0.0|[0.99999833741463...|\n",
      "|      0|[7.17805715762398...|       0.0|[0.99999833785781...|\n",
      "|      0|[7.17805714648954...|       0.0|[0.99999833785777...|\n",
      "|      0|[7.17805475917749...|       0.0|[0.99999833784962...|\n",
      "|      0|[7.17805698324754...|       0.0|[0.99999833785721...|\n",
      "+-------+--------------------+----------+--------------------+\n",
      "only showing top 5 rows\n",
      "\n",
      "The area under ROC for train set is 0.9987604767661898\n",
      "The area under ROC for test set is 0.9989250147234263\n"
     ]
    }
   ],
   "source": [
    "evaluator=BinaryClassificationEvaluator(rawPredictionCol=\"rawPrediction\",labelCol=\"isFraud\")\n",
    "\n",
    "predict_test_nn1.select(\"isFraud\",\"rawPrediction\",\"prediction\",\"probability\").show(5)\n",
    "print(\"The area under ROC for train set is {}\".format(evaluator.evaluate(predict_train_nn1)))\n",
    "print(\"The area under ROC for test set is {}\".format(evaluator.evaluate(predict_test_nn1)))"
   ]
  },
  {
   "cell_type": "code",
   "execution_count": 51,
   "metadata": {},
   "outputs": [
    {
     "data": {
      "text/plain": [
       "(5084714, 0, 29, 6543)"
      ]
     },
     "execution_count": 51,
     "metadata": {},
     "output_type": "execute_result"
    }
   ],
   "source": [
    "y_true_train_nn1 = predict_train_nn1.select(['isFraud']).collect()\n",
    "y_pred_train_nn1 = predict_train_nn1.select(['prediction']).collect()\n",
    "\n",
    "tn, fp, fn, tp = confusion_matrix(y_true_train_nn1, y_pred_train_nn1).ravel()\n",
    "(tn, fp, fn, tp)"
   ]
  },
  {
   "cell_type": "code",
   "execution_count": 52,
   "metadata": {},
   "outputs": [
    {
     "data": {
      "text/plain": [
       "(1269693, 0, 8, 1633)"
      ]
     },
     "execution_count": 52,
     "metadata": {},
     "output_type": "execute_result"
    }
   ],
   "source": [
    "y_true_test_nn1 = predict_test_nn1.select(['isFraud']).collect()\n",
    "y_pred_test_nn1 = predict_test_nn1.select(['prediction']).collect()\n",
    "\n",
    "tn, fp, fn, tp = confusion_matrix(y_true_test_nn1, y_pred_test_nn1).ravel()\n",
    "(tn, fp, fn, tp)"
   ]
  },
  {
   "cell_type": "code",
   "execution_count": 53,
   "metadata": {},
   "outputs": [
    {
     "data": {
      "text/plain": [
       "0.9975565058032988"
      ]
     },
     "execution_count": 53,
     "metadata": {},
     "output_type": "execute_result"
    }
   ],
   "source": [
    "f1 = metrics.fbeta_score(y_true_test_nn1, y_pred_test_nn1, beta = 1)\n",
    "f1"
   ]
  },
  {
   "cell_type": "markdown",
   "metadata": {},
   "source": [
    "### 5) Stop Spark"
   ]
  },
  {
   "cell_type": "code",
   "execution_count": 54,
   "metadata": {},
   "outputs": [],
   "source": [
    "spark.stop()"
   ]
  }
 ],
 "metadata": {
  "kernelspec": {
   "display_name": "Python 3",
   "language": "python",
   "name": "python3"
  },
  "language_info": {
   "codemirror_mode": {
    "name": "ipython",
    "version": 3
   },
   "file_extension": ".py",
   "mimetype": "text/x-python",
   "name": "python",
   "nbconvert_exporter": "python",
   "pygments_lexer": "ipython3",
   "version": "3.6.9"
  }
 },
 "nbformat": 4,
 "nbformat_minor": 4
}
